{
 "cells": [
  {
   "cell_type": "markdown",
   "id": "99c86a08",
   "metadata": {},
   "source": [
    "# Name-Aniket Bhavar,Roll No-321\n",
    "   "
   ]
  },
  {
   "cell_type": "code",
   "execution_count": 71,
   "id": "4962b5aa",
   "metadata": {},
   "outputs": [],
   "source": [
    "# Libraries for this section \n",
    "import numpy as np\n",
    "import pandas as p"
   ]
  },
  {
   "cell_type": "markdown",
   "id": "47ffe12c",
   "metadata": {},
   "source": [
    "# Basic vector operations"
   ]
  },
  {
   "cell_type": "code",
   "execution_count": 2,
   "id": "206b84be",
   "metadata": {},
   "outputs": [],
   "source": [
    "x = np.array([[1],\n",
    "              [2],\n",
    "              [3]])"
   ]
  },
  {
   "cell_type": "code",
   "execution_count": 3,
   "id": "80bee572",
   "metadata": {},
   "outputs": [
    {
     "data": {
      "text/plain": [
       "(3, 1)"
      ]
     },
     "execution_count": 3,
     "metadata": {},
     "output_type": "execute_result"
    }
   ],
   "source": [
    "x.shape # (3 dimensions, 1 element on each)"
   ]
  },
  {
   "cell_type": "code",
   "execution_count": 4,
   "id": "5eaadf83",
   "metadata": {},
   "outputs": [
    {
     "name": "stdout",
     "output_type": "stream",
     "text": [
      "A 3-dimensional vector:\n",
      "[[1]\n",
      " [2]\n",
      " [3]]\n"
     ]
    }
   ],
   "source": [
    "print(f'A 3-dimensional vector:\\n{x}')"
   ]
  },
  {
   "cell_type": "code",
   "execution_count": 5,
   "id": "4685803d",
   "metadata": {},
   "outputs": [],
   "source": [
    "x = y = np.array([[1],\n",
    "                  [2],\n",
    "                  [3]])"
   ]
  },
  {
   "cell_type": "code",
   "execution_count": 6,
   "id": "44f6d934",
   "metadata": {},
   "outputs": [
    {
     "data": {
      "text/plain": [
       "array([[2],\n",
       "       [4],\n",
       "       [6]])"
      ]
     },
     "execution_count": 6,
     "metadata": {},
     "output_type": "execute_result"
    }
   ],
   "source": [
    "x + y"
   ]
  },
  {
   "cell_type": "code",
   "execution_count": 7,
   "id": "ec39cf8e",
   "metadata": {},
   "outputs": [
    {
     "data": {
      "text/plain": [
       "array([[2],\n",
       "       [4],\n",
       "       [6]])"
      ]
     },
     "execution_count": 7,
     "metadata": {},
     "output_type": "execute_result"
    }
   ],
   "source": [
    "np.add(x,y)"
   ]
  },
  {
   "cell_type": "code",
   "execution_count": 8,
   "id": "eba00f98",
   "metadata": {},
   "outputs": [],
   "source": [
    "alpha = 2\n",
    "x = np.array([[1],\n",
    "             [2],\n",
    "             [3]])"
   ]
  },
  {
   "cell_type": "code",
   "execution_count": 9,
   "id": "4f82f3d1",
   "metadata": {},
   "outputs": [
    {
     "data": {
      "text/plain": [
       "array([[2],\n",
       "       [4],\n",
       "       [6]])"
      ]
     },
     "execution_count": 9,
     "metadata": {},
     "output_type": "execute_result"
    }
   ],
   "source": [
    "alpha * x"
   ]
  },
  {
   "cell_type": "code",
   "execution_count": 10,
   "id": "f882a2cc",
   "metadata": {},
   "outputs": [],
   "source": [
    "a, b = 2, 3\n",
    "x , y = np.array([[2],[3]]), np.array([[4], [5]])"
   ]
  },
  {
   "cell_type": "code",
   "execution_count": 11,
   "id": "0be98d86",
   "metadata": {},
   "outputs": [
    {
     "data": {
      "text/plain": [
       "array([[16],\n",
       "       [21]])"
      ]
     },
     "execution_count": 11,
     "metadata": {},
     "output_type": "execute_result"
    }
   ],
   "source": [
    "a*x + b*y"
   ]
  },
  {
   "cell_type": "markdown",
   "id": "b8fd12e7",
   "metadata": {},
   "source": [
    "# Vector-vector multiplication: dot product "
   ]
  },
  {
   "cell_type": "code",
   "execution_count": 12,
   "id": "922d187d",
   "metadata": {},
   "outputs": [],
   "source": [
    "x, y = np.array([[-2],[2]]), np.array([[4],[-3]])"
   ]
  },
  {
   "cell_type": "code",
   "execution_count": 13,
   "id": "d0ec0d7c",
   "metadata": {},
   "outputs": [
    {
     "data": {
      "text/plain": [
       "array([[-14]])"
      ]
     },
     "execution_count": 13,
     "metadata": {},
     "output_type": "execute_result"
    }
   ],
   "source": [
    "x.T @ y"
   ]
  },
  {
   "cell_type": "markdown",
   "id": "322e5b6a",
   "metadata": {},
   "source": [
    "# Vector space, span, and subspace"
   ]
  },
  {
   "cell_type": "code",
   "execution_count": 14,
   "id": "3718838c",
   "metadata": {},
   "outputs": [
    {
     "data": {
      "text/plain": [
       "5.0"
      ]
     },
     "execution_count": 14,
     "metadata": {},
     "output_type": "execute_result"
    }
   ],
   "source": [
    "x = np.array([[3],[4]])\n",
    "\n",
    "np.linalg.norm(x, 2)"
   ]
  },
  {
   "cell_type": "code",
   "execution_count": 15,
   "id": "68ba123f",
   "metadata": {},
   "outputs": [
    {
     "data": {
      "text/plain": [
       "7.0"
      ]
     },
     "execution_count": 15,
     "metadata": {},
     "output_type": "execute_result"
    }
   ],
   "source": [
    "x = np.array([[3],[-4]])\n",
    "\n",
    "np.linalg.norm(x, 1)"
   ]
  },
  {
   "cell_type": "code",
   "execution_count": 16,
   "id": "40b3eaa3",
   "metadata": {},
   "outputs": [
    {
     "data": {
      "text/plain": [
       "4.0"
      ]
     },
     "execution_count": 16,
     "metadata": {},
     "output_type": "execute_result"
    }
   ],
   "source": [
    "x = np.array([[3],[-4]])\n",
    "\n",
    "np.linalg.norm(x, np.inf)"
   ]
  },
  {
   "cell_type": "markdown",
   "id": "3dd0c0af",
   "metadata": {},
   "source": [
    "# Vector inner product, length, and distance."
   ]
  },
  {
   "cell_type": "code",
   "execution_count": 17,
   "id": "47bc0752",
   "metadata": {},
   "outputs": [
    {
     "data": {
      "text/plain": [
       "array([[-14]])"
      ]
     },
     "execution_count": 17,
     "metadata": {},
     "output_type": "execute_result"
    }
   ],
   "source": [
    "x, y = np.array([[-2],[2]]), np.array([[4],[-3]])\n",
    "x.T @ y "
   ]
  },
  {
   "cell_type": "code",
   "execution_count": 18,
   "id": "b2bbed73",
   "metadata": {},
   "outputs": [
    {
     "name": "stdout",
     "output_type": "stream",
     "text": [
      "L_2 distance : 7.810249675906654\n"
     ]
    }
   ],
   "source": [
    "distance = np.linalg.norm(x-y, 2)\n",
    "print(f'L_2 distance : {distance}')"
   ]
  },
  {
   "cell_type": "markdown",
   "id": "10b8aabc",
   "metadata": {},
   "source": [
    "# Vector angles and orthogonality"
   ]
  },
  {
   "cell_type": "code",
   "execution_count": 19,
   "id": "f51d0408",
   "metadata": {},
   "outputs": [
    {
     "name": "stdout",
     "output_type": "stream",
     "text": [
      "cos of the angle = [[0.988]]\n"
     ]
    }
   ],
   "source": [
    "x, y = np.array([[1], [2]]), np.array([[5], [7]])\n",
    "\n",
    "# here we translate the cos(theta) definition\n",
    "cos_theta = (x.T @ y) / (np.linalg.norm(x,2) * np.linalg.norm(y,2))\n",
    "print(f'cos of the angle = {np.round(cos_theta, 3)}')"
   ]
  },
  {
   "cell_type": "code",
   "execution_count": 20,
   "id": "7bfe4325",
   "metadata": {},
   "outputs": [
    {
     "name": "stdout",
     "output_type": "stream",
     "text": [
      "angle in radiants = [[0.157]]\n"
     ]
    }
   ],
   "source": [
    "cos_inverse = np.arccos(cos_theta)\n",
    "print(f'angle in radiants = {np.round(cos_inverse, 3)}')"
   ]
  },
  {
   "cell_type": "code",
   "execution_count": 21,
   "id": "819a6f34",
   "metadata": {},
   "outputs": [
    {
     "name": "stdout",
     "output_type": "stream",
     "text": [
      "angle in degrees = [[8.973]]\n"
     ]
    }
   ],
   "source": [
    "degrees = cos_inverse * ((180)/np.pi)\n",
    "print(f'angle in degrees = {np.round(degrees, 3)}')"
   ]
  },
  {
   "cell_type": "code",
   "execution_count": 22,
   "id": "2af677a6",
   "metadata": {},
   "outputs": [
    {
     "name": "stdout",
     "output_type": "stream",
     "text": [
      "cos of the angle = [[0.]]\n"
     ]
    }
   ],
   "source": [
    "x = np.array([[2], [0]])\n",
    "y = np.array([[0], [2]])\n",
    "\n",
    "cos_theta = (x.T @ y) / (np.linalg.norm(x,2) * np.linalg.norm(y,2))\n",
    "print(f'cos of the angle = {np.round(cos_theta, 3)}')"
   ]
  },
  {
   "cell_type": "code",
   "execution_count": 23,
   "id": "e86c3424",
   "metadata": {},
   "outputs": [
    {
     "name": "stdout",
     "output_type": "stream",
     "text": [
      "angle in radiants = [[1.571]]\n",
      "angle in degrees =[[90.]] \n"
     ]
    }
   ],
   "source": [
    "cos_inverse = np.arccos(cos_theta)\n",
    "degrees = cos_inverse * ((180)/np.pi)\n",
    "print(f'angle in radiants = {np.round(cos_inverse, 3)}\\nangle in degrees ={np.round(degrees, 3)} ')\n"
   ]
  },
  {
   "cell_type": "markdown",
   "id": "17315e12",
   "metadata": {},
   "source": [
    " "
   ]
  },
  {
   "cell_type": "markdown",
   "id": "44716483",
   "metadata": {},
   "source": [
    "# Basic Matrices Operation"
   ]
  },
  {
   "cell_type": "code",
   "execution_count": 24,
   "id": "2b9485ce",
   "metadata": {},
   "outputs": [
    {
     "name": "stdout",
     "output_type": "stream",
     "text": [
      "a 2x2 Matrix:\n",
      "[[0 2]\n",
      " [1 4]]\n"
     ]
    }
   ],
   "source": [
    "A = np.array([[0,2],  # 1st row\n",
    "              [1,4]]) # 2nd row\n",
    "\n",
    "print(f'a 2x2 Matrix:\\n{A}')"
   ]
  },
  {
   "cell_type": "code",
   "execution_count": 25,
   "id": "713dd070",
   "metadata": {},
   "outputs": [],
   "source": [
    "A = np.array([[0,2],\n",
    "              [1,4]])\n",
    "B = np.array([[3,1],\n",
    "              [-3,2]])"
   ]
  },
  {
   "cell_type": "code",
   "execution_count": 26,
   "id": "6dab5886",
   "metadata": {},
   "outputs": [
    {
     "data": {
      "text/plain": [
       "array([[ 3,  3],\n",
       "       [-2,  6]])"
      ]
     },
     "execution_count": 26,
     "metadata": {},
     "output_type": "execute_result"
    }
   ],
   "source": [
    "A + B"
   ]
  },
  {
   "cell_type": "code",
   "execution_count": 27,
   "id": "2cd26a21",
   "metadata": {},
   "outputs": [
    {
     "data": {
      "text/plain": [
       "array([[ 3,  3],\n",
       "       [-2,  6]])"
      ]
     },
     "execution_count": 27,
     "metadata": {},
     "output_type": "execute_result"
    }
   ],
   "source": [
    "np.add(A, B)"
   ]
  },
  {
   "cell_type": "code",
   "execution_count": 28,
   "id": "2be0996d",
   "metadata": {},
   "outputs": [],
   "source": [
    "alpha = 2\n",
    "A = np.array([[1,2],\n",
    "              [3,4]])"
   ]
  },
  {
   "cell_type": "code",
   "execution_count": 29,
   "id": "147a92ef",
   "metadata": {},
   "outputs": [
    {
     "data": {
      "text/plain": [
       "array([[2, 4],\n",
       "       [6, 8]])"
      ]
     },
     "execution_count": 29,
     "metadata": {},
     "output_type": "execute_result"
    }
   ],
   "source": [
    "alpha * A"
   ]
  },
  {
   "cell_type": "code",
   "execution_count": 30,
   "id": "31edec88",
   "metadata": {},
   "outputs": [
    {
     "data": {
      "text/plain": [
       "array([[2, 4],\n",
       "       [6, 8]])"
      ]
     },
     "execution_count": 30,
     "metadata": {},
     "output_type": "execute_result"
    }
   ],
   "source": [
    "np.multiply(alpha, A)"
   ]
  },
  {
   "cell_type": "code",
   "execution_count": 31,
   "id": "df4d4b6e",
   "metadata": {},
   "outputs": [],
   "source": [
    "# dot Product"
   ]
  },
  {
   "cell_type": "code",
   "execution_count": 32,
   "id": "10218e4d",
   "metadata": {},
   "outputs": [],
   "source": [
    "A = np.array([[0,2],\n",
    "              [1,4]])\n",
    "x = np.array([[1],\n",
    "              [2]])"
   ]
  },
  {
   "cell_type": "code",
   "execution_count": 33,
   "id": "56cd21dc",
   "metadata": {},
   "outputs": [
    {
     "data": {
      "text/plain": [
       "array([[4],\n",
       "       [9]])"
      ]
     },
     "execution_count": 33,
     "metadata": {},
     "output_type": "execute_result"
    }
   ],
   "source": [
    "A @ x"
   ]
  },
  {
   "cell_type": "code",
   "execution_count": 34,
   "id": "19d7ca25",
   "metadata": {},
   "outputs": [
    {
     "data": {
      "text/plain": [
       "array([[4],\n",
       "       [9]])"
      ]
     },
     "execution_count": 34,
     "metadata": {},
     "output_type": "execute_result"
    }
   ],
   "source": [
    "np.dot(A, x)"
   ]
  },
  {
   "cell_type": "code",
   "execution_count": 35,
   "id": "106a082c",
   "metadata": {},
   "outputs": [],
   "source": [
    "A = np.array([[0,2],\n",
    "              [1,4]])\n",
    "B = np.array([[1,3],\n",
    "              [2,1]])"
   ]
  },
  {
   "cell_type": "code",
   "execution_count": 36,
   "id": "c243e13b",
   "metadata": {},
   "outputs": [
    {
     "data": {
      "text/plain": [
       "array([[4, 2],\n",
       "       [9, 7]])"
      ]
     },
     "execution_count": 36,
     "metadata": {},
     "output_type": "execute_result"
    }
   ],
   "source": [
    "A @ B"
   ]
  },
  {
   "cell_type": "code",
   "execution_count": 37,
   "id": "495b9ffc",
   "metadata": {},
   "outputs": [
    {
     "data": {
      "text/plain": [
       "array([[4, 2],\n",
       "       [9, 7]])"
      ]
     },
     "execution_count": 37,
     "metadata": {},
     "output_type": "execute_result"
    }
   ],
   "source": [
    "np.dot(A, B)"
   ]
  },
  {
   "cell_type": "code",
   "execution_count": 38,
   "id": "5382260e",
   "metadata": {},
   "outputs": [],
   "source": [
    "# matrix identity\n",
    "# matrix inverse"
   ]
  },
  {
   "cell_type": "code",
   "execution_count": 39,
   "id": "0d3865e3",
   "metadata": {},
   "outputs": [],
   "source": [
    "A = np.array([[1, 2, 1],\n",
    "              [4, 4, 5],\n",
    "              [6, 7, 7]])"
   ]
  },
  {
   "cell_type": "code",
   "execution_count": 40,
   "id": "1f63eb02",
   "metadata": {},
   "outputs": [
    {
     "name": "stdout",
     "output_type": "stream",
     "text": [
      "A inverse:\n",
      "[[-7. -7.  6.]\n",
      " [ 2.  1. -1.]\n",
      " [ 4.  5. -4.]]\n"
     ]
    }
   ],
   "source": [
    "A_i = np.linalg.inv(A)\n",
    "print(f'A inverse:\\n{A_i}')"
   ]
  },
  {
   "cell_type": "code",
   "execution_count": 41,
   "id": "e216b3cf",
   "metadata": {},
   "outputs": [
    {
     "name": "stdout",
     "output_type": "stream",
     "text": [
      "A_i times A resulsts in I_3:\n",
      "[[ 1.  0.  0.]\n",
      " [ 0.  1.  0.]\n",
      " [-0. -0.  1.]]\n"
     ]
    }
   ],
   "source": [
    "I = np.round(A_i @ A)\n",
    "print(f'A_i times A resulsts in I_3:\\n{I}')"
   ]
  },
  {
   "cell_type": "code",
   "execution_count": 42,
   "id": "e58193c9",
   "metadata": {},
   "outputs": [],
   "source": [
    "# matrix transpose"
   ]
  },
  {
   "cell_type": "code",
   "execution_count": 43,
   "id": "7937303e",
   "metadata": {},
   "outputs": [],
   "source": [
    "A = np.array([[1, 2],\n",
    "              [3, 4],\n",
    "              [5, 6]])"
   ]
  },
  {
   "cell_type": "code",
   "execution_count": 44,
   "id": "393396b9",
   "metadata": {},
   "outputs": [
    {
     "data": {
      "text/plain": [
       "array([[1, 3, 5],\n",
       "       [2, 4, 6]])"
      ]
     },
     "execution_count": 44,
     "metadata": {},
     "output_type": "execute_result"
    }
   ],
   "source": [
    "A.T"
   ]
  },
  {
   "cell_type": "code",
   "execution_count": 45,
   "id": "9bb500be",
   "metadata": {},
   "outputs": [],
   "source": [
    "# rectanguler,squre,Diagonal,upper lower triangular matrix,symetric,identity,scaler,echelon,"
   ]
  },
  {
   "cell_type": "markdown",
   "id": "95c84c56",
   "metadata": {},
   "source": [
    "\n",
    "#  Matrices as systems of linear equations "
   ]
  },
  {
   "cell_type": "code",
   "execution_count": 46,
   "id": "113b6d8e",
   "metadata": {},
   "outputs": [],
   "source": [
    "A = np.array([[1, 3, 5],\n",
    "              [2, 2, -1],\n",
    "              [1, 3, 2]])\n",
    "y = np.array([[-1],\n",
    "              [1],\n",
    "              [2]])"
   ]
  },
  {
   "cell_type": "code",
   "execution_count": 47,
   "id": "ae62e98c",
   "metadata": {},
   "outputs": [
    {
     "data": {
      "text/plain": [
       "array([[-2.],\n",
       "       [ 2.],\n",
       "       [-1.]])"
      ]
     },
     "execution_count": 47,
     "metadata": {},
     "output_type": "execute_result"
    }
   ],
   "source": [
    "np.linalg.solve(A, y)"
   ]
  },
  {
   "cell_type": "code",
   "execution_count": 48,
   "id": "c62c861d",
   "metadata": {},
   "outputs": [],
   "source": [
    "from sympy import Matrix"
   ]
  },
  {
   "cell_type": "code",
   "execution_count": 49,
   "id": "6b9c19de",
   "metadata": {},
   "outputs": [],
   "source": [
    " A = Matrix([[1, 0, 1],\n",
    "            [0, 1, 1]])"
   ]
  },
  {
   "cell_type": "code",
   "execution_count": 50,
   "id": "6c8b6a9f",
   "metadata": {},
   "outputs": [],
   "source": [
    "B = Matrix([[1, 2, 3, -1],\n",
    "            [2, -1, -4, 8],\n",
    "            [-1, 1, 3, -5],\n",
    "            [-1, 2, 5, -6],\n",
    "            [-1, -2, -3, 1]])"
   ]
  },
  {
   "cell_type": "code",
   "execution_count": 51,
   "id": "96392074",
   "metadata": {},
   "outputs": [],
   "source": [
    "A_rref, A_pivots = A.rref()\n"
   ]
  },
  {
   "cell_type": "code",
   "execution_count": 52,
   "id": "8fefecb6",
   "metadata": {},
   "outputs": [
    {
     "name": "stdout",
     "output_type": "stream",
     "text": [
      "Reduced row echelon form of A:\n"
     ]
    }
   ],
   "source": [
    "print('Reduced row echelon form of A:')"
   ]
  },
  {
   "cell_type": "code",
   "execution_count": 53,
   "id": "559ddbc7",
   "metadata": {},
   "outputs": [
    {
     "name": "stdout",
     "output_type": "stream",
     "text": [
      "Column pivots of A: (0, 1)\n"
     ]
    }
   ],
   "source": [
    "print(f'Column pivots of A: {A_pivots}')"
   ]
  },
  {
   "cell_type": "code",
   "execution_count": 54,
   "id": "cdbc161f",
   "metadata": {},
   "outputs": [],
   "source": [
    "B_rref, B_pivots = B.rref()"
   ]
  },
  {
   "cell_type": "code",
   "execution_count": 55,
   "id": "17e1ac1d",
   "metadata": {},
   "outputs": [
    {
     "name": "stdout",
     "output_type": "stream",
     "text": [
      "Reduced row echelon form of B:\n"
     ]
    }
   ],
   "source": [
    "print('Reduced row echelon form of B:')"
   ]
  },
  {
   "cell_type": "code",
   "execution_count": 56,
   "id": "f0d5955e",
   "metadata": {},
   "outputs": [],
   "source": [
    "x = np.array([[-1],\n",
    "              [0],\n",
    "              [1]])\n",
    "\n",
    "y = np.array([[-3],\n",
    "              [0],\n",
    "              [2]])\n",
    "\n",
    "T = np.array([[-1,0,0],\n",
    "              [0,-1,0],\n",
    "              [0,0,-1]])"
   ]
  },
  {
   "cell_type": "code",
   "execution_count": 57,
   "id": "7da3fca2",
   "metadata": {},
   "outputs": [
    {
     "name": "stdout",
     "output_type": "stream",
     "text": [
      "Left side of the equation:\n",
      "[[ 4]\n",
      " [ 0]\n",
      " [-3]]\n",
      "Right side of the equation:\n",
      "[[ 4]\n",
      " [ 0]\n",
      " [-3]]\n"
     ]
    }
   ],
   "source": [
    "left_side_1 = T @ (x+y)\n",
    "right_side_1 = (T @ x) + (T @ y)\n",
    "print(f\"Left side of the equation:\\n{left_side_1}\")\n",
    "print(f\"Right side of the equation:\\n{right_side_1}\")"
   ]
  },
  {
   "cell_type": "code",
   "execution_count": 58,
   "id": "730871ff",
   "metadata": {},
   "outputs": [
    {
     "name": "stdout",
     "output_type": "stream",
     "text": [
      "Left side of the equation:\n",
      "[[ 2]\n",
      " [ 0]\n",
      " [-2]]\n",
      "Right side of the equation:\n",
      "[[ 2]\n",
      " [ 0]\n",
      " [-2]]\n"
     ]
    }
   ],
   "source": [
    "alpha = 2\n",
    "left_side_2 = T @ (alpha * x)\n",
    "right_side_2 = alpha * (T @ x)\n",
    "print(f\"Left side of the equation:\\n{left_side_2}\")\n",
    "print(f\"Right side of the equation:\\n{right_side_2}\")"
   ]
  },
  {
   "cell_type": "markdown",
   "id": "062f8a38",
   "metadata": {},
   "source": [
    "# Reversal matrix "
   ]
  },
  {
   "cell_type": "code",
   "execution_count": 59,
   "id": "fc192aa6",
   "metadata": {},
   "outputs": [],
   "source": [
    "x = np.array([[-1],\n",
    "              [0],\n",
    "              [1]])\n",
    "\n",
    "y = np.array([[-3],\n",
    "              [0],\n",
    "              [2]])\n",
    "\n",
    "T = np.array([[0,0,1],\n",
    "              [0,1,0],\n",
    "              [1,0,0]])"
   ]
  },
  {
   "cell_type": "code",
   "execution_count": 60,
   "id": "9f838698",
   "metadata": {},
   "outputs": [
    {
     "name": "stdout",
     "output_type": "stream",
     "text": [
      "x before reversal:\n",
      "[[-1]\n",
      " [ 0]\n",
      " [ 1]]\n",
      "x after reversal \n",
      "[[ 1]\n",
      " [ 0]\n",
      " [-1]]\n",
      "y before reversal:\n",
      "[[-3]\n",
      " [ 0]\n",
      " [ 2]]\n",
      "y after reversal \n",
      "[[ 2]\n",
      " [ 0]\n",
      " [-3]]\n",
      "Left side of the equation (add reversed vectors):\n",
      "[[ 3]\n",
      " [ 0]\n",
      " [-4]]\n",
      "Right side of the equation (add reversed vectors):\n",
      "[[ 3]\n",
      " [ 0]\n",
      " [-4]]\n"
     ]
    }
   ],
   "source": [
    "x_reversal = T @ x\n",
    "y_reversal = T @ y\n",
    "left_side_1 = T @ (x+y)\n",
    "right_side_1 = (T @ x) + (T @ y)\n",
    "print(f\"x before reversal:\\n{x}\\nx after reversal \\n{x_reversal}\")\n",
    "print(f\"y before reversal:\\n{y}\\ny after reversal \\n{y_reversal}\")\n",
    "print(f\"Left side of the equation (add reversed vectors):\\n{left_side_1}\")\n",
    "print(f\"Right side of the equation (add reversed vectors):\\n{right_side_1}\")"
   ]
  },
  {
   "cell_type": "markdown",
   "id": "4ef2d875",
   "metadata": {},
   "source": [
    "# Determinant "
   ]
  },
  {
   "cell_type": "code",
   "execution_count": 61,
   "id": "a779742e",
   "metadata": {},
   "outputs": [],
   "source": [
    "A = np.array([[4, 0],\n",
    "              [0, 3]])\n",
    "\n",
    "x = np.array([1,1])"
   ]
  },
  {
   "cell_type": "code",
   "execution_count": 62,
   "id": "591c242e",
   "metadata": {},
   "outputs": [
    {
     "data": {
      "text/plain": [
       "array([4, 3])"
      ]
     },
     "execution_count": 62,
     "metadata": {},
     "output_type": "execute_result"
    }
   ],
   "source": [
    "A @ x.T"
   ]
  },
  {
   "cell_type": "code",
   "execution_count": 63,
   "id": "19a9df89",
   "metadata": {},
   "outputs": [
    {
     "name": "stdout",
     "output_type": "stream",
     "text": [
      "x, y vectors in x', y' coordinates:\n",
      "[[ 0.25  0.25]\n",
      " [-0.25  0.25]]\n"
     ]
    }
   ],
   "source": [
    "T = np.array([[2, -2],\n",
    "              [2,  2]])\n",
    "\n",
    "# Inverse of T\n",
    "T_i = np.linalg.inv(T)\n",
    "\n",
    "# x, y vectors\n",
    "A = np.array([[1, 0],\n",
    "              [0,1]])\n",
    "\n",
    "print(f\"x, y vectors in x', y' coordinates:\\n{T_i @ A}\")"
   ]
  },
  {
   "cell_type": "code",
   "execution_count": 64,
   "id": "ef268dfc",
   "metadata": {},
   "outputs": [
    {
     "name": "stdout",
     "output_type": "stream",
     "text": [
      "Vector a=[1,3] in x' and y' basis:\n",
      "[[-1. ]\n",
      " [ 0.5]]\n"
     ]
    }
   ],
   "source": [
    "# vector to map\n",
    "a = np.array([[-3],[-1]])\n",
    "print(f'Vector a=[1,3] in x\\' and y\\' basis:\\n{T_i@a}')"
   ]
  },
  {
   "cell_type": "markdown",
   "id": "3972ec63",
   "metadata": {},
   "source": [
    "# Eigenvectors, Eigenvalues and Eigenspaces "
   ]
  },
  {
   "cell_type": "code",
   "execution_count": 65,
   "id": "1805f1df",
   "metadata": {},
   "outputs": [],
   "source": [
    "A = np.array([[4, 2],\n",
    "              [1, 3]])\n",
    "\n",
    "values, vectors = np.linalg.eig(A)"
   ]
  },
  {
   "cell_type": "code",
   "execution_count": 66,
   "id": "23209f1f",
   "metadata": {},
   "outputs": [
    {
     "name": "stdout",
     "output_type": "stream",
     "text": [
      "Eigenvalues of A:\n",
      "[5. 2.]\n",
      "\n",
      "Eigenvectors of A:\n",
      "[[ 0.894 -0.707]\n",
      " [ 0.447  0.707]]\n"
     ]
    }
   ],
   "source": [
    "print(f'Eigenvalues of A:\\n{values}\\n')\n",
    "print(f'Eigenvectors of A:\\n{np.round(vectors,3)}')"
   ]
  },
  {
   "cell_type": "code",
   "execution_count": 67,
   "id": "24b40cfa",
   "metadata": {},
   "outputs": [],
   "source": [
    "B = np.array([[0, -1],\n",
    "              [1, 0]])\n",
    "\n",
    "values, vectors = np.linalg.eig(B)"
   ]
  },
  {
   "cell_type": "code",
   "execution_count": 68,
   "id": "1c01c248",
   "metadata": {},
   "outputs": [
    {
     "name": "stdout",
     "output_type": "stream",
     "text": [
      "B Eigenvalues:\n",
      "[0.+1.j 0.-1.j]\n",
      "\n",
      "B Eigenvectors:\n",
      "[[0.70710678+0.j         0.70710678-0.j        ]\n",
      " [0.        -0.70710678j 0.        +0.70710678j]]\n",
      "\n"
     ]
    }
   ],
   "source": [
    "print(f'B Eigenvalues:\\n{values}\\n')\n",
    "print(f'B Eigenvectors:\\n{vectors}\\n')"
   ]
  },
  {
   "cell_type": "markdown",
   "id": "aa5c7849",
   "metadata": {},
   "source": [
    "# Eigendecomposition "
   ]
  },
  {
   "cell_type": "code",
   "execution_count": 69,
   "id": "cf6ce347",
   "metadata": {},
   "outputs": [
    {
     "name": "stdout",
     "output_type": "stream",
     "text": [
      "B Eigenvalues:\n",
      "[2. 8. 3.]\n",
      "\n",
      "B Eigenvectors:\n",
      "[[ 0.          0.6882472   0.18291323]\n",
      " [ 0.          0.6882472  -0.12194215]\n",
      " [ 1.          0.22941573  0.97553722]]\n",
      "\n"
     ]
    }
   ],
   "source": [
    "A = np.array([[5,  3, 0],\n",
    "              [2,  6, 0], \n",
    "              [4,  -2, 2]])\n",
    "eigenvalues, eigenvectors = np.linalg.eig(A)\n",
    "\n",
    "print(f'B Eigenvalues:\\n{eigenvalues}\\n')\n",
    "print(f'B Eigenvectors:\\n{eigenvectors}\\n')"
   ]
  },
  {
   "cell_type": "code",
   "execution_count": 70,
   "id": "f64ff116",
   "metadata": {},
   "outputs": [
    {
     "name": "stdout",
     "output_type": "stream",
     "text": [
      "Left-side of the equation AX:\n",
      "[[ 0.          5.50597761  0.54873968]\n",
      " [ 0.          5.50597761 -0.36582646]\n",
      " [ 2.          1.83532587  2.92661165]]\n",
      "\n",
      "Right-side of the equation XL:\n",
      "[[ 0.          5.50597761  0.54873968]\n",
      " [ 0.          5.50597761 -0.36582646]\n",
      " [ 2.          1.83532587  2.92661165]]\n",
      "\n"
     ]
    }
   ],
   "source": [
    "X = eigenvectors \n",
    "I = np.identity(3)\n",
    "L = I * eigenvalues\n",
    "print(f'Left-side of the equation AX:\\n{A @ X}\\n')\n",
    "print(f'Right-side of the equation XL:\\n{X @ L}\\n')"
   ]
  },
  {
   "cell_type": "code",
   "execution_count": null,
   "id": "c9cb1c17",
   "metadata": {},
   "outputs": [],
   "source": []
  }
 ],
 "metadata": {
  "kernelspec": {
   "display_name": "Python 3 (ipykernel)",
   "language": "python",
   "name": "python3"
  },
  "language_info": {
   "codemirror_mode": {
    "name": "ipython",
    "version": 3
   },
   "file_extension": ".py",
   "mimetype": "text/x-python",
   "name": "python",
   "nbconvert_exporter": "python",
   "pygments_lexer": "ipython3",
   "version": "3.9.7"
  }
 },
 "nbformat": 4,
 "nbformat_minor": 5
}
