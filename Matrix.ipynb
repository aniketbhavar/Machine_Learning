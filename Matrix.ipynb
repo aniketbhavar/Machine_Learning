{
  "cells": [
    {
      "cell_type": "markdown",
      "id": "a0b3e3db",
      "metadata": {
        "id": "a0b3e3db"
      },
      "source": [
        "### Scalar\n",
        "\n",
        "A Scalar is a quantity which is described by a numerical value. It is used to represent values such as:\n",
        "A number like 50\n",
        "Mass of sun in kilograms \n",
        "Length of the great wall of china in kilometres\n"
      ]
    },
    {
      "cell_type": "code",
      "execution_count": null,
      "id": "6ced4e1a",
      "metadata": {
        "id": "6ced4e1a",
        "outputId": "1e4762b9-c9cc-439d-e194-6efc4779bed4"
      },
      "outputs": [
        {
          "name": "stdout",
          "output_type": "stream",
          "text": [
            "50\n",
            "1.989e+30\n",
            "21196\n"
          ]
        }
      ],
      "source": [
        "# Define scalars\n",
        "number_of_units = 50\n",
        "mass_of_sun = 1.989e30\n",
        "length_great_wall_of_china = 21196\n",
        "print(number_of_units)\n",
        "print(mass_of_sun)\n",
        "print(length_great_wall_of_china)\n"
      ]
    },
    {
      "cell_type": "markdown",
      "id": "777fd24d",
      "metadata": {
        "id": "777fd24d"
      },
      "source": [
        "### Vector\n",
        "A vector is an ordered collection of scalars. It can be represented in two forms:\n",
        "\n",
        "Column vector: Contains n rows and 1 column\n",
        "Row vector: Contains 1 row and n columns\n",
        "The number of scalars in a vector is called its dimension or order. \n",
        "\n",
        "Example: A column vector 'u' of dimension 2 is illustrated below:\n",
        "\n",
        "\n",
        "\n",
        "Example: A row vector 'v' of dimension 3 is illustrated below:\n",
        "\n",
        "\n",
        "\n",
        "Row and column vectors can be created using the library NumPy as follows: "
      ]
    },
    {
      "cell_type": "code",
      "execution_count": null,
      "id": "5707cfa1",
      "metadata": {
        "id": "5707cfa1",
        "outputId": "57c1841a-47af-4570-e09c-770dfd7defc4"
      },
      "outputs": [
        {
          "name": "stdout",
          "output_type": "stream",
          "text": [
            "A column vector\n",
            " [[4]\n",
            " [3]]\n",
            "Shape of vector= (2, 1)\n"
          ]
        }
      ],
      "source": [
        "# importing required library (numpy as np)\n",
        "import numpy as np\n",
        "# creating a column vector with 2 rows and 1 column using np.array() function\n",
        "col_vec = np.array([[4],[3]])\n",
        "print (\"A column vector\\n\",col_vec)\n",
        "# printing the shape of the vector\n",
        "print(\"Shape of vector=\",col_vec.shape)\n"
      ]
    },
    {
      "cell_type": "code",
      "execution_count": null,
      "id": "9e653a8d",
      "metadata": {
        "id": "9e653a8d",
        "outputId": "8fcf1b92-675e-4402-96eb-d3fd6b2cde95"
      },
      "outputs": [
        {
          "name": "stdout",
          "output_type": "stream",
          "text": [
            "A row vector\n",
            " [[ 4 -1  2]]\n",
            "Shape of vector= (1, 3)\n"
          ]
        }
      ],
      "source": [
        "# importing required library (numpy as np)\n",
        "import numpy as np\n",
        "# creating a row vector with 1 row and 3 columns using np.array() function\n",
        "row_vec = np.array([[4,-1,2]])\n",
        "print(\"A row vector\\n\",row_vec)\n",
        "# printing the shape of the vector\n",
        "print(\"Shape of vector=\",row_vec.shape)\n"
      ]
    },
    {
      "cell_type": "markdown",
      "id": "f6408608",
      "metadata": {
        "id": "f6408608"
      },
      "source": [
        "Zero vector (z) is a vector in which each element is zero.\n",
        "\n",
        "One vector (o) is a vector in which each element is one."
      ]
    },
    {
      "cell_type": "code",
      "execution_count": null,
      "id": "c97ab0d5",
      "metadata": {
        "id": "c97ab0d5",
        "outputId": "c94430e9-075c-48f8-b1f1-cc691ce7d6de"
      },
      "outputs": [
        {
          "name": "stdout",
          "output_type": "stream",
          "text": [
            "[0 0 0]\n",
            "[0. 0. 0.]\n",
            "[[0.]\n",
            " [0.]\n",
            " [0.]]\n"
          ]
        }
      ],
      "source": [
        "# importing required library (numpy as np)\n",
        "import numpy as np\n",
        "#Illustrating a Zero row vector of dimension 3 using np.array() function\n",
        "zero_vector_1=np.array([0,0,0])\n",
        "print(zero_vector_1)\n",
        "#Illustrating a Zero row vector of dimension 3 using np.zeros() function\n",
        "zero_vector_2=np.zeros(3)\n",
        "print(zero_vector_2)\n",
        "#Illustrating a Zero column vector of dimension 3 using np.zeros() and reshape() function\n",
        "zero_vector_3=np.zeros(3).reshape(3,-1)\n",
        "print(zero_vector_3)\n"
      ]
    },
    {
      "cell_type": "code",
      "execution_count": null,
      "id": "8d5f32cf",
      "metadata": {
        "id": "8d5f32cf",
        "outputId": "09b8f847-8cf5-4c7b-96f5-f7ed1fd30b86"
      },
      "outputs": [
        {
          "name": "stdout",
          "output_type": "stream",
          "text": [
            "[1 1 1]\n",
            "[1. 1. 1.]\n",
            "[[1.]\n",
            " [1.]\n",
            " [1.]]\n"
          ]
        }
      ],
      "source": [
        "# importing required library (numpy as np)\n",
        "import numpy as np\n",
        "#Illustrating a One vector of dimension 3 using np.array() function\n",
        "one_vector_1=np.array([1,1,1])\n",
        "print(one_vector_1)\n",
        "#Illustrating a One vector of dimension 3 using np.ones() function\n",
        "one_vector_2=np.ones(3)\n",
        "print(one_vector_2)\n",
        "#Illustrating a column vector of ones of dimension 3 using np.ones() and reshape() function \n",
        "one_vector_3=np.ones(3).reshape(3,-1)\n",
        "print(one_vector_3)\n"
      ]
    },
    {
      "cell_type": "code",
      "execution_count": null,
      "id": "3931e709",
      "metadata": {
        "id": "3931e709",
        "outputId": "c46a842d-4c12-4b6a-8f70-6b28144f2f3e"
      },
      "outputs": [
        {
          "name": "stdout",
          "output_type": "stream",
          "text": [
            "The vector\n",
            " [[ 4]\n",
            " [-1]\n",
            " [ 2]]\n",
            "\n",
            "Element at position 1= [-1]\n"
          ]
        }
      ],
      "source": [
        "## Indexing\n",
        "\n",
        "# importing required libraries (numpy as np)\n",
        "import numpy as np\n",
        "vector=np.array([[4],[-1],[2]])\n",
        "print(\"The vector\\n\",vector)\n",
        "#Addressing a value of vector by index\n",
        "print(\"\\nElement at position 1=\",vector[1])\n"
      ]
    },
    {
      "cell_type": "code",
      "execution_count": null,
      "id": "8a302e36",
      "metadata": {
        "id": "8a302e36",
        "outputId": "a6f50825-571d-49c2-dc57-45d3861d2f25"
      },
      "outputs": [
        {
          "name": "stdout",
          "output_type": "stream",
          "text": [
            "\n",
            "Magnitude of the vector =  5.196152422706632\n"
          ]
        }
      ],
      "source": [
        "# importing required libraries (numpy as np)\n",
        "import numpy as np\n",
        "#Create a vector\n",
        "vector=np.array([3,3,3])\n",
        "#Magnitude of vector can be found using function np.linalg.norm() function\n",
        "print(\"\\nMagnitude of the vector = \",np.linalg.norm(vector))\n"
      ]
    },
    {
      "cell_type": "markdown",
      "id": "d1047f48",
      "metadata": {
        "id": "d1047f48"
      },
      "source": [
        "### Matrix\n",
        "A matrix is defined as a rectangular array of numbers. It consists of rows and columns. \n",
        "\n",
        "The number of rows (m) and columns (n) is defined as the dimension or order of the matrix and is represented as (m, n). A matrix is called a square matrix if the number of rows(m) is equal to the number of columns(n).\n",
        "\n",
        "Using the library NumPy, you can create matrices of different orders as shown below:"
      ]
    },
    {
      "cell_type": "code",
      "execution_count": null,
      "id": "c7ad3087",
      "metadata": {
        "id": "c7ad3087",
        "outputId": "0e31a977-bb88-48ad-d08c-5a41fe227f89"
      },
      "outputs": [
        {
          "name": "stdout",
          "output_type": "stream",
          "text": [
            "2x2 Matrix\n",
            " [[1 2]\n",
            " [3 4]] \n",
            "shape of matrix ->  (2, 2)\n",
            "\n",
            "3x3 Matrix\n",
            " [[ 1  2  3]\n",
            " [ 4  5  6]\n",
            " [ 8  9 10]] \n",
            "shape of matrix ->  (3, 3)\n"
          ]
        }
      ],
      "source": [
        "# importing required libraries (numpy as np)\n",
        "import numpy as np\n",
        "# Creating matrices of various dimension using np.array() function\n",
        "matrix_2x2 = np.array([[1, 2], \n",
        "                       [3, 4]])\n",
        "matrix_3x3 = np.array([[1, 2, 3],\n",
        "                       [4, 5, 6],\n",
        "                       [8, 9, 10]])\n",
        "print(\"2x2 Matrix\\n\",matrix_2x2,\"\\nshape of matrix -> \",matrix_2x2.shape)\n",
        "print(\"\\n3x3 Matrix\\n\",matrix_3x3,\"\\nshape of matrix -> \",matrix_3x3.shape)\n"
      ]
    },
    {
      "cell_type": "code",
      "execution_count": null,
      "id": "bc98fa4e",
      "metadata": {
        "id": "bc98fa4e",
        "outputId": "e9a69249-6b3e-4fd9-888b-e3ef774dcad2"
      },
      "outputs": [
        {
          "name": "stdout",
          "output_type": "stream",
          "text": [
            "Element of matrix A at index position [2,1] is 4\n"
          ]
        }
      ],
      "source": [
        "#Accessing elements of a matrix\n",
        "# importing required libraries (numpy as np)\n",
        "import numpy as np\n",
        "# Creating a 3x2 Matrix \"A\"\n",
        "A = np.array([[2,-2],[3,1],[1,4]])\n",
        "# Recall that, indexing starts from 0. Elements of matrix A can be accessed using row-id and column-id as shown below:\n",
        "\n",
        "#selecting an element at row index 2 and column index 1\n",
        "print(\"Element of matrix A at index position [2,1] is\", A[2,1])\n"
      ]
    },
    {
      "cell_type": "markdown",
      "id": "261a584e",
      "metadata": {
        "id": "261a584e"
      },
      "source": [
        "## Transpose of a matrix\n",
        "Transpose of a matrix is obtained by interchanging its rows and columns.\n",
        "Note: The matrix A has 3 rows and 2 columns, and its Transpose has 2 rows and 3 columns.\n",
        "\n",
        "NumPy library has a function transpose() which is used to obtain the transpose of a given matrix. \n",
        "\n",
        "An example is illustrated below:"
      ]
    },
    {
      "cell_type": "code",
      "execution_count": null,
      "id": "01dbb066",
      "metadata": {
        "id": "01dbb066",
        "outputId": "75ed85e2-3fc7-4c80-ee4d-571c139640f3"
      },
      "outputs": [
        {
          "name": "stdout",
          "output_type": "stream",
          "text": [
            "Matrix A:\n",
            " [[ 2 -2]\n",
            " [ 3  1]\n",
            " [ 1  4]]\n",
            "Matrix A Transpose: \n",
            " [[ 2  3  1]\n",
            " [-2  1  4]]\n"
          ]
        }
      ],
      "source": [
        "# importing required libraries (numpy as np)\n",
        "import numpy as np\n",
        "# Creating a 3x2 Matrix \"A\"\n",
        "A = np.array([[2,-2],[3,1],[1,4]])\n",
        "print(\"Matrix A:\\n\",A)\n",
        "# Finding transpose of a matrix using the function transpose()\n",
        "print(\"Matrix A Transpose: \\n\",np.transpose(A))\n"
      ]
    },
    {
      "cell_type": "markdown",
      "id": "30c374ad",
      "metadata": {
        "id": "30c374ad"
      },
      "source": [
        "Types of Matrices\n",
        "Matrices can be categorized on the basis of the value of their elements, position of elements,  number of rows and columns, etc. as follows:\n",
        "Diagonal matrix\n",
        "\n",
        "Identity matrix\n",
        "\n",
        "Symmetric matrix\n",
        "\n",
        "Triangular matrix\n"
      ]
    },
    {
      "cell_type": "markdown",
      "id": "0efd69b7",
      "metadata": {
        "id": "0efd69b7"
      },
      "source": [
        "Diagonal Matrix\n",
        "A Square Matrix (D) is called a Diagonal Matrix, if D has zeros outside the main diagonal or principal diagonal. The Main diagonal or the principal diagonal are the elements on the diagonal that runs from the top left to bottom right. \n",
        "\n",
        "Example: The matrix 'A' shown below illustrates a (3, 3) Diagonal matrix."
      ]
    },
    {
      "cell_type": "code",
      "execution_count": null,
      "id": "362a8c33",
      "metadata": {
        "id": "362a8c33",
        "outputId": "660bf0c7-c416-44d9-b5cc-19227ec15c5f"
      },
      "outputs": [
        {
          "name": "stdout",
          "output_type": "stream",
          "text": [
            "[[1 0 0]\n",
            " [0 3 0]\n",
            " [0 0 2]]\n",
            "[[1 0 0]\n",
            " [0 3 0]\n",
            " [0 0 5]]\n"
          ]
        }
      ],
      "source": [
        "# importing required libraries (numpy as np)\n",
        "import numpy as np\n",
        "# Creating a diagonal matrix with diagonal elements as (1,3,2)\n",
        "diagonal_matrix = np.diag((1,3,2))\n",
        "print(diagonal_matrix)\n",
        "# Creating a diagonal matrix with a range of values\n",
        "matrix_range= np.diag(np.arange(1,6,2))\n",
        "print(matrix_range)\n"
      ]
    },
    {
      "cell_type": "markdown",
      "id": "00b72f90",
      "metadata": {
        "id": "00b72f90"
      },
      "source": [
        "### Identity Matrix\n",
        "An identity matrix is a square matrix of dimensions (n, n) having '1' across its main diagonal and '0' everywhere else. It is usually represented as 'In'\n",
        "\n",
        "Example: The matrix shown below illustrates a (3, 3) Identity matrix."
      ]
    },
    {
      "cell_type": "code",
      "execution_count": null,
      "id": "15e2d42e",
      "metadata": {
        "id": "15e2d42e",
        "outputId": "8cf8bbad-32db-4fea-dbcc-d74496cc65ce"
      },
      "outputs": [
        {
          "name": "stdout",
          "output_type": "stream",
          "text": [
            "Identity_matrix 1\n",
            " [[1. 0.]\n",
            " [0. 1.]]\n",
            "\n",
            "Identity_matrix 2\n",
            " [[1. 0. 0.]\n",
            " [0. 1. 0.]\n",
            " [0. 0. 1.]]\n"
          ]
        }
      ],
      "source": [
        "# importing required libraries (numpy as np)\n",
        "import numpy as np\n",
        "#Creating an Identity matrix of size 2 using np.identity() function\n",
        "identity_matrix_1 = np.identity(2)\n",
        "print(\"Identity_matrix 1\\n\",identity_matrix_1)\n",
        "#Creating an Identity matrix of size 3 using np.eye() fucntion\n",
        "identity_matrix_2 = np.eye(3)\n",
        "print(\"\\nIdentity_matrix 2\\n\",identity_matrix_2)\n"
      ]
    },
    {
      "cell_type": "markdown",
      "id": "c8a35ae3",
      "metadata": {
        "id": "c8a35ae3"
      },
      "source": [
        "### Symmetric Matrix\n",
        "A square matrix A of dimension (n, n) is symmetric, if A = AT i.e.  the matrix A is the same as its transpose."
      ]
    },
    {
      "cell_type": "code",
      "execution_count": null,
      "id": "d67d009b",
      "metadata": {
        "id": "d67d009b",
        "outputId": "7fe501df-672e-4195-ae2b-3981d5fd3147"
      },
      "outputs": [
        {
          "name": "stdout",
          "output_type": "stream",
          "text": [
            "A:\n",
            " [[ 2  3  1]\n",
            " [ 3  4 -1]\n",
            " [ 1 -1  1]]\n",
            "Transpose of A:\n",
            " [[ 2  3  1]\n",
            " [ 3  4 -1]\n",
            " [ 1 -1  1]]\n",
            "True\n"
          ]
        }
      ],
      "source": [
        "# importing required libraries (numpy as np)\n",
        "import numpy as np\n",
        "#Creating matrix A\n",
        "A = np.array([[2,3,1],\n",
        "            [3,4,-1],\n",
        "            [1,-1,1]])\n",
        "print(\"A:\\n\" , A)\n",
        "# Finding the Transpose of the matrix\n",
        "transposed_matrix = A.transpose()\n",
        "print(\"Transpose of A:\\n\" , transposed_matrix)\n",
        "#Comparing each element of both matrices (returns a matrix of boolean compared values) and saving it in a variable comparison\n",
        "comparison = (A == transposed_matrix)\n",
        "#Checking if all the elements in the matrix comparision is true\n",
        "equal_arrays = comparison.all()\n",
        "print(equal_arrays)\n"
      ]
    },
    {
      "cell_type": "markdown",
      "id": "23866a7a",
      "metadata": {
        "id": "23866a7a"
      },
      "source": [
        "### Triangular Matrix\n",
        "A triangular matrix can be either a lower triangular or an upper triangular matrix.\n",
        "\n",
        "A lower triangular matrix is a square matrix in which all the elements above the main diagonal are zero."
      ]
    },
    {
      "cell_type": "code",
      "execution_count": null,
      "id": "d9f95488",
      "metadata": {
        "id": "d9f95488",
        "outputId": "c16e8059-1531-4972-deb9-4f94c4988ac3"
      },
      "outputs": [
        {
          "name": "stdout",
          "output_type": "stream",
          "text": [
            "Lower triangular matrix\n",
            " [[1 0 0]\n",
            " [4 5 0]\n",
            " [7 8 9]]\n"
          ]
        }
      ],
      "source": [
        "# importing required libraries (numpy as np)\n",
        "import numpy as np\n",
        "#Creating a lower triangular matrix\n",
        "lower_triangular_matrix_1 = np.tril([[1,2,3],\n",
        "                               [4,5,6],\n",
        "                               [7,8,9]])\n",
        "print(\"Lower triangular matrix\\n\",lower_triangular_matrix_1)\n"
      ]
    },
    {
      "cell_type": "code",
      "execution_count": null,
      "id": "b5767c0c",
      "metadata": {
        "id": "b5767c0c",
        "outputId": "aa9a7593-86fc-432a-ba4a-cc4e5cdd1b4a"
      },
      "outputs": [
        {
          "name": "stdout",
          "output_type": "stream",
          "text": [
            "Upper triangular matrix\n",
            " [[1 2 3]\n",
            " [0 5 6]\n",
            " [0 0 9]]\n"
          ]
        }
      ],
      "source": [
        "# importing required libraries (numpy as np)\n",
        "import numpy as np\n",
        "#Creating a Upper triangular matrix\n",
        "upper_triangular_matrix_1 = np.triu([[1,2,3],\n",
        "                               [4,5,6],\n",
        "                               [7,8,9]])\n",
        "print(\"Upper triangular matrix\\n\",upper_triangular_matrix_1)\n"
      ]
    },
    {
      "cell_type": "markdown",
      "id": "c34be2b6",
      "metadata": {
        "id": "c34be2b6"
      },
      "source": [
        "Exercise\n",
        "Create a square matrix A of order 3. Solve the following:\n",
        "\n",
        "Convert A to an upper triangular matrix B\n",
        " \n",
        "Convert B to a lower triangular matrix C\n",
        " \n",
        "Find the transpose of matrix C\n",
        " \n",
        "Check whether matrix C is a diagonal matrix\n",
        " \n",
        "Check whether matrix C is symmetric"
      ]
    },
    {
      "cell_type": "code",
      "execution_count": null,
      "id": "0de5419c",
      "metadata": {
        "id": "0de5419c"
      },
      "outputs": [],
      "source": []
    }
  ],
  "metadata": {
    "kernelspec": {
      "display_name": "Python 3 (ipykernel)",
      "language": "python",
      "name": "python3"
    },
    "language_info": {
      "codemirror_mode": {
        "name": "ipython",
        "version": 3
      },
      "file_extension": ".py",
      "mimetype": "text/x-python",
      "name": "python",
      "nbconvert_exporter": "python",
      "pygments_lexer": "ipython3",
      "version": "3.9.12"
    },
    "colab": {
      "provenance": []
    }
  },
  "nbformat": 4,
  "nbformat_minor": 5
}